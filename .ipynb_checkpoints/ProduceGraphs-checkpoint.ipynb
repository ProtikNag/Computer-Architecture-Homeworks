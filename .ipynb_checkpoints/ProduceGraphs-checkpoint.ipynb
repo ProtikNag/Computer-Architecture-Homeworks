{
 "cells": [
  {
   "cell_type": "code",
   "execution_count": 1,
   "id": "48a9dab6-1a44-4643-8f08-26c1fdfa0d49",
   "metadata": {},
   "outputs": [],
   "source": [
    "import pandas as pd"
   ]
  },
  {
   "cell_type": "code",
   "execution_count": 2,
   "id": "ea59665f-72b5-486b-83aa-b59931191cf1",
   "metadata": {},
   "outputs": [],
   "source": [
    "cols = [\"Length of Vectors\", \"Total Instructions\", \"R-Type\", \"I-Type\", \"J-Type\", \n",
    "        \"CPI\", \"ALU\", \"Jump\", \"Branch\", \"Memory\", \"Other\", \"Energy Consumption\", \"MIPS/mW\"]\n",
    "df = pd.DataFrame(columns=cols)"
   ]
  },
  {
   "cell_type": "code",
   "execution_count": 3,
   "id": "90089e1e-9ebc-4871-927b-b6c030399732",
   "metadata": {},
   "outputs": [
    {
     "data": {
      "text/html": [
       "<div>\n",
       "<style scoped>\n",
       "    .dataframe tbody tr th:only-of-type {\n",
       "        vertical-align: middle;\n",
       "    }\n",
       "\n",
       "    .dataframe tbody tr th {\n",
       "        vertical-align: top;\n",
       "    }\n",
       "\n",
       "    .dataframe thead th {\n",
       "        text-align: right;\n",
       "    }\n",
       "</style>\n",
       "<table border=\"1\" class=\"dataframe\">\n",
       "  <thead>\n",
       "    <tr style=\"text-align: right;\">\n",
       "      <th></th>\n",
       "      <th>Length of Vectors</th>\n",
       "      <th>Total Instructions</th>\n",
       "      <th>R-Type</th>\n",
       "      <th>I-Type</th>\n",
       "      <th>J-Type</th>\n",
       "      <th>CPI</th>\n",
       "      <th>ALU</th>\n",
       "      <th>Jump</th>\n",
       "      <th>Branch</th>\n",
       "      <th>Memory</th>\n",
       "      <th>Other</th>\n",
       "      <th>Energy Consumption</th>\n",
       "      <th>MIPS/mW</th>\n",
       "    </tr>\n",
       "  </thead>\n",
       "  <tbody>\n",
       "  </tbody>\n",
       "</table>\n",
       "</div>"
      ],
      "text/plain": [
       "Empty DataFrame\n",
       "Columns: [Length of Vectors, Total Instructions, R-Type, I-Type, J-Type, CPI, ALU, Jump, Branch, Memory, Other, Energy Consumption, MIPS/mW]\n",
       "Index: []"
      ]
     },
     "execution_count": 3,
     "metadata": {},
     "output_type": "execute_result"
    }
   ],
   "source": [
    "df.head()"
   ]
  },
  {
   "cell_type": "code",
   "execution_count": null,
   "id": "88df8145-7900-428d-bdd7-720fd06282cf",
   "metadata": {},
   "outputs": [],
   "source": [
    "eight = [8, 346, 94, 210, 42, None, 227, 42, 58, 17, 2, None, None]\n",
    "sixteen = [16, 346, 94, 210, 42, None, 227, 42, 58, 17, 2, None, None]\n",
    "thirty_two = [32, 346, 94, 210, 42, None, 227, 42, 58, 17, 2, None, None]"
   ]
  }
 ],
 "metadata": {
  "kernelspec": {
   "display_name": "Python 3",
   "language": "python",
   "name": "python3"
  },
  "language_info": {
   "codemirror_mode": {
    "name": "ipython",
    "version": 3
   },
   "file_extension": ".py",
   "mimetype": "text/x-python",
   "name": "python",
   "nbconvert_exporter": "python",
   "pygments_lexer": "ipython3",
   "version": "3.9.12"
  }
 },
 "nbformat": 4,
 "nbformat_minor": 5
}
